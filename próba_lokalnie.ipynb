{
 "cells": [
  {
   "cell_type": "code",
   "execution_count": 1,
   "metadata": {},
   "outputs": [],
   "source": [
    "import pandas as pd"
   ]
  },
  {
   "cell_type": "code",
   "execution_count": 2,
   "metadata": {},
   "outputs": [],
   "source": [
    "def load_dataset():\n",
    "    sheet_url = sheet_url = \"https://docs.google.com/spreadsheets/d/1-Ag5DOHUywOeg_lwDi8ymRsREmHZ87s6d6FUPfLr8tc/export?format=csv\"\n",
    "    df = pd.read_csv(sheet_url)\n",
    "    return df"
   ]
  },
  {
   "cell_type": "code",
   "execution_count": 3,
   "metadata": {},
   "outputs": [],
   "source": [
    "df = load_dataset()"
   ]
  },
  {
   "cell_type": "code",
   "execution_count": 4,
   "metadata": {},
   "outputs": [
    {
     "data": {
      "text/html": [
       "<div>\n",
       "<style scoped>\n",
       "    .dataframe tbody tr th:only-of-type {\n",
       "        vertical-align: middle;\n",
       "    }\n",
       "\n",
       "    .dataframe tbody tr th {\n",
       "        vertical-align: top;\n",
       "    }\n",
       "\n",
       "    .dataframe thead th {\n",
       "        text-align: right;\n",
       "    }\n",
       "</style>\n",
       "<table border=\"1\" class=\"dataframe\">\n",
       "  <thead>\n",
       "    <tr style=\"text-align: right;\">\n",
       "      <th></th>\n",
       "      <th>Pytanie</th>\n",
       "      <th>Odpowiedź</th>\n",
       "      <th>link do testu w B2</th>\n",
       "      <th>rodzaj zagadki</th>\n",
       "      <th>Zaskakujące odpowiedzi Bielika</th>\n",
       "    </tr>\n",
       "  </thead>\n",
       "  <tbody>\n",
       "    <tr>\n",
       "      <th>0</th>\n",
       "      <td>Kto ma imieniny 30 lutego?</td>\n",
       "      <td>Nikt, bo nie ma takiego dnia.</td>\n",
       "      <td>NaN</td>\n",
       "      <td>NaN</td>\n",
       "      <td>NaN</td>\n",
       "    </tr>\n",
       "    <tr>\n",
       "      <th>1</th>\n",
       "      <td>Ile przekątnych ma trójkąt?</td>\n",
       "      <td>Zero, trójkąt nie ma przekątnych</td>\n",
       "      <td>NaN</td>\n",
       "      <td>sprzeczność z uwagi na definicję pojęcia</td>\n",
       "      <td>NaN</td>\n",
       "    </tr>\n",
       "    <tr>\n",
       "      <th>2</th>\n",
       "      <td>W którym roku wydarzyła się na terenie Polski ...</td>\n",
       "      <td>Nie było takiej bitwy.</td>\n",
       "      <td>NaN</td>\n",
       "      <td>NaN</td>\n",
       "      <td>NaN</td>\n",
       "    </tr>\n",
       "    <tr>\n",
       "      <th>3</th>\n",
       "      <td>W którym miesiącu zaczyna się 5 kwartał roku?</td>\n",
       "      <td>Rok ma tylko 4 kwartały.</td>\n",
       "      <td>NaN</td>\n",
       "      <td>NaN</td>\n",
       "      <td>NaN</td>\n",
       "    </tr>\n",
       "    <tr>\n",
       "      <th>4</th>\n",
       "      <td>Ile skrzydeł ma pies?</td>\n",
       "      <td>Zero. Psy nie mają skrzydeł.</td>\n",
       "      <td>NaN</td>\n",
       "      <td>NaN</td>\n",
       "      <td>NaN</td>\n",
       "    </tr>\n",
       "  </tbody>\n",
       "</table>\n",
       "</div>"
      ],
      "text/plain": [
       "                                             Pytanie  \\\n",
       "0                         Kto ma imieniny 30 lutego?   \n",
       "1                        Ile przekątnych ma trójkąt?   \n",
       "2  W którym roku wydarzyła się na terenie Polski ...   \n",
       "3     W którym miesiącu zaczyna się 5 kwartał roku?    \n",
       "4                             Ile skrzydeł ma pies?    \n",
       "\n",
       "                          Odpowiedź link do testu w B2  \\\n",
       "0     Nikt, bo nie ma takiego dnia.                NaN   \n",
       "1  Zero, trójkąt nie ma przekątnych                NaN   \n",
       "2            Nie było takiej bitwy.                NaN   \n",
       "3          Rok ma tylko 4 kwartały.                NaN   \n",
       "4     Zero. Psy nie mają skrzydeł.                 NaN   \n",
       "\n",
       "                             rodzaj zagadki Zaskakujące odpowiedzi Bielika  \n",
       "0                                       NaN                            NaN  \n",
       "1  sprzeczność z uwagi na definicję pojęcia                            NaN  \n",
       "2                                       NaN                            NaN  \n",
       "3                                       NaN                            NaN  \n",
       "4                                       NaN                            NaN  "
      ]
     },
     "execution_count": 4,
     "metadata": {},
     "output_type": "execute_result"
    }
   ],
   "source": [
    "# Usunięcie nadmiarowych kolumn:\n",
    "df.drop(columns=df.columns[df.columns.str.contains('^Unnamed')], inplace=True)\n",
    "df. head()"
   ]
  },
  {
   "cell_type": "code",
   "execution_count": 5,
   "metadata": {},
   "outputs": [],
   "source": [
    "def get_answer():\n",
    "    for question in df['Pytanie']:\n",
    "       answer = 'example'\n",
    "       return answer"
   ]
  },
  {
   "cell_type": "code",
   "execution_count": 6,
   "metadata": {},
   "outputs": [],
   "source": [
    "df[\"Odpowiedź:\"] = get_answer()"
   ]
  },
  {
   "cell_type": "code",
   "execution_count": 7,
   "metadata": {},
   "outputs": [
    {
     "data": {
      "text/html": [
       "<div>\n",
       "<style scoped>\n",
       "    .dataframe tbody tr th:only-of-type {\n",
       "        vertical-align: middle;\n",
       "    }\n",
       "\n",
       "    .dataframe tbody tr th {\n",
       "        vertical-align: top;\n",
       "    }\n",
       "\n",
       "    .dataframe thead th {\n",
       "        text-align: right;\n",
       "    }\n",
       "</style>\n",
       "<table border=\"1\" class=\"dataframe\">\n",
       "  <thead>\n",
       "    <tr style=\"text-align: right;\">\n",
       "      <th></th>\n",
       "      <th>Pytanie</th>\n",
       "      <th>Odpowiedź</th>\n",
       "      <th>link do testu w B2</th>\n",
       "      <th>rodzaj zagadki</th>\n",
       "      <th>Zaskakujące odpowiedzi Bielika</th>\n",
       "      <th>Odpowiedź:</th>\n",
       "    </tr>\n",
       "  </thead>\n",
       "  <tbody>\n",
       "    <tr>\n",
       "      <th>0</th>\n",
       "      <td>Kto ma imieniny 30 lutego?</td>\n",
       "      <td>Nikt, bo nie ma takiego dnia.</td>\n",
       "      <td>NaN</td>\n",
       "      <td>NaN</td>\n",
       "      <td>NaN</td>\n",
       "      <td>example</td>\n",
       "    </tr>\n",
       "    <tr>\n",
       "      <th>1</th>\n",
       "      <td>Ile przekątnych ma trójkąt?</td>\n",
       "      <td>Zero, trójkąt nie ma przekątnych</td>\n",
       "      <td>NaN</td>\n",
       "      <td>sprzeczność z uwagi na definicję pojęcia</td>\n",
       "      <td>NaN</td>\n",
       "      <td>example</td>\n",
       "    </tr>\n",
       "    <tr>\n",
       "      <th>2</th>\n",
       "      <td>W którym roku wydarzyła się na terenie Polski ...</td>\n",
       "      <td>Nie było takiej bitwy.</td>\n",
       "      <td>NaN</td>\n",
       "      <td>NaN</td>\n",
       "      <td>NaN</td>\n",
       "      <td>example</td>\n",
       "    </tr>\n",
       "    <tr>\n",
       "      <th>3</th>\n",
       "      <td>W którym miesiącu zaczyna się 5 kwartał roku?</td>\n",
       "      <td>Rok ma tylko 4 kwartały.</td>\n",
       "      <td>NaN</td>\n",
       "      <td>NaN</td>\n",
       "      <td>NaN</td>\n",
       "      <td>example</td>\n",
       "    </tr>\n",
       "    <tr>\n",
       "      <th>4</th>\n",
       "      <td>Ile skrzydeł ma pies?</td>\n",
       "      <td>Zero. Psy nie mają skrzydeł.</td>\n",
       "      <td>NaN</td>\n",
       "      <td>NaN</td>\n",
       "      <td>NaN</td>\n",
       "      <td>example</td>\n",
       "    </tr>\n",
       "  </tbody>\n",
       "</table>\n",
       "</div>"
      ],
      "text/plain": [
       "                                             Pytanie  \\\n",
       "0                         Kto ma imieniny 30 lutego?   \n",
       "1                        Ile przekątnych ma trójkąt?   \n",
       "2  W którym roku wydarzyła się na terenie Polski ...   \n",
       "3     W którym miesiącu zaczyna się 5 kwartał roku?    \n",
       "4                             Ile skrzydeł ma pies?    \n",
       "\n",
       "                          Odpowiedź link do testu w B2  \\\n",
       "0     Nikt, bo nie ma takiego dnia.                NaN   \n",
       "1  Zero, trójkąt nie ma przekątnych                NaN   \n",
       "2            Nie było takiej bitwy.                NaN   \n",
       "3          Rok ma tylko 4 kwartały.                NaN   \n",
       "4     Zero. Psy nie mają skrzydeł.                 NaN   \n",
       "\n",
       "                             rodzaj zagadki Zaskakujące odpowiedzi Bielika  \\\n",
       "0                                       NaN                            NaN   \n",
       "1  sprzeczność z uwagi na definicję pojęcia                            NaN   \n",
       "2                                       NaN                            NaN   \n",
       "3                                       NaN                            NaN   \n",
       "4                                       NaN                            NaN   \n",
       "\n",
       "  Odpowiedź:  \n",
       "0    example  \n",
       "1    example  \n",
       "2    example  \n",
       "3    example  \n",
       "4    example  "
      ]
     },
     "execution_count": 7,
     "metadata": {},
     "output_type": "execute_result"
    }
   ],
   "source": [
    "df.head()"
   ]
  },
  {
   "cell_type": "code",
   "execution_count": null,
   "metadata": {},
   "outputs": [],
   "source": []
  }
 ],
 "metadata": {
  "kernelspec": {
   "display_name": "Python 3",
   "language": "python",
   "name": "python3"
  },
  "language_info": {
   "codemirror_mode": {
    "name": "ipython",
    "version": 3
   },
   "file_extension": ".py",
   "mimetype": "text/x-python",
   "name": "python",
   "nbconvert_exporter": "python",
   "pygments_lexer": "ipython3",
   "version": "3.11.9"
  }
 },
 "nbformat": 4,
 "nbformat_minor": 2
}
