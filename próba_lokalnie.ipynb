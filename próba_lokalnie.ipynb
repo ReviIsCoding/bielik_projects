{
 "cells": [
  {
   "cell_type": "code",
   "execution_count": 1,
   "metadata": {},
   "outputs": [],
   "source": [
    "import pandas as pd\n",
    "import torch\n",
    "import secret\n",
    "from transformers import pipeline, AutoModelForCausalLM, AutoTokenizer, BitsAndBytesConfig"
   ]
  },
  {
   "cell_type": "code",
   "execution_count": 2,
   "metadata": {},
   "outputs": [
    {
     "data": {
      "text/plain": [
       "<module 'secret' from 'c:\\\\Users\\\\ankaz\\\\OneDrive\\\\Dokumenty\\\\GitHUB\\\\Bielik_projects\\\\bielik_projects\\\\secret.py'>"
      ]
     },
     "execution_count": 2,
     "metadata": {},
     "output_type": "execute_result"
    }
   ],
   "source": [
    "secret"
   ]
  },
  {
   "cell_type": "code",
   "execution_count": 3,
   "metadata": {},
   "outputs": [],
   "source": [
    "def load_dataset():  # -> pd.DataFrame:\n",
    "    \"\"\"\n",
    "    Wczytuje dane z arkusza Google Sheets, usuwa nadmiarowe kolumny i filtruje wiersze z \"prawidłowe\" == \"T\".\n",
    "\n",
    "    Returns:\n",
    "        pd.DataFrame: Odfiltrowana ramka danych.\n",
    "    \"\"\"\n",
    "    # URL do arkusza Google Sheets w formacie CSV\n",
    "    sheet_url = \"https://docs.google.com/spreadsheets/d/1-Ag5DOHUywOeg_lwDi8ymRsREmHZ87s6d6FUPfLr8tc/export?format=csv\"\n",
    "    \n",
    "    # Wczytanie arkusza\n",
    "    df = pd.read_csv(sheet_url)\n",
    "\n",
    "    # Usunięcie nadmiarowych kolumn (np. 'Unnamed')\n",
    "    df.drop(columns=df.columns[df.columns.str.contains('^Unnamed')], inplace=True)\n",
    "\n",
    "    # Filtrowanie wierszy, gdzie \"Prawidłowe\" == \"T\"\n",
    "    if \"Prawidłowe\" in df.columns:\n",
    "        df = df.loc[df[\"Prawidłowe\"] == \"T\"]\n",
    "    else:\n",
    "        raise ValueError(\"Brak wymaganej kolumny 'prawidłowe' w ramce danych.\")\n",
    "    \n",
    "    return df"
   ]
  },
  {
   "cell_type": "code",
   "execution_count": 4,
   "metadata": {},
   "outputs": [
    {
     "data": {
      "text/html": [
       "<div>\n",
       "<style scoped>\n",
       "    .dataframe tbody tr th:only-of-type {\n",
       "        vertical-align: middle;\n",
       "    }\n",
       "\n",
       "    .dataframe tbody tr th {\n",
       "        vertical-align: top;\n",
       "    }\n",
       "\n",
       "    .dataframe thead th {\n",
       "        text-align: right;\n",
       "    }\n",
       "</style>\n",
       "<table border=\"1\" class=\"dataframe\">\n",
       "  <thead>\n",
       "    <tr style=\"text-align: right;\">\n",
       "      <th></th>\n",
       "      <th>Pytanie</th>\n",
       "      <th>Odpowiedź</th>\n",
       "      <th>link do testu w B2</th>\n",
       "      <th>rodzaj zagadki</th>\n",
       "      <th>Zaskakujące odpowiedzi Bielika</th>\n",
       "      <th>Prawidłowe</th>\n",
       "    </tr>\n",
       "  </thead>\n",
       "  <tbody>\n",
       "    <tr>\n",
       "      <th>0</th>\n",
       "      <td>Kto ma imieniny 30 lutego?</td>\n",
       "      <td>Nikt, bo nie ma takiego dnia.</td>\n",
       "      <td>NaN</td>\n",
       "      <td>NaN</td>\n",
       "      <td>NaN</td>\n",
       "      <td>T</td>\n",
       "    </tr>\n",
       "    <tr>\n",
       "      <th>1</th>\n",
       "      <td>Ile przekątnych ma trójkąt?</td>\n",
       "      <td>Zero, trójkąt nie ma przekątnych</td>\n",
       "      <td>NaN</td>\n",
       "      <td>sprzeczność z uwagi na definicję pojęcia</td>\n",
       "      <td>NaN</td>\n",
       "      <td>T</td>\n",
       "    </tr>\n",
       "    <tr>\n",
       "      <th>2</th>\n",
       "      <td>W którym roku wydarzyła się na terenie Polski ...</td>\n",
       "      <td>Nie było takiej bitwy.</td>\n",
       "      <td>NaN</td>\n",
       "      <td>NaN</td>\n",
       "      <td>NaN</td>\n",
       "      <td>T</td>\n",
       "    </tr>\n",
       "    <tr>\n",
       "      <th>3</th>\n",
       "      <td>W którym miesiącu zaczyna się 5 kwartał roku?</td>\n",
       "      <td>Rok ma tylko 4 kwartały.</td>\n",
       "      <td>NaN</td>\n",
       "      <td>NaN</td>\n",
       "      <td>NaN</td>\n",
       "      <td>T</td>\n",
       "    </tr>\n",
       "    <tr>\n",
       "      <th>4</th>\n",
       "      <td>Ile skrzydeł ma pies?</td>\n",
       "      <td>Zero. Psy nie mają skrzydeł.</td>\n",
       "      <td>NaN</td>\n",
       "      <td>NaN</td>\n",
       "      <td>NaN</td>\n",
       "      <td>T</td>\n",
       "    </tr>\n",
       "  </tbody>\n",
       "</table>\n",
       "</div>"
      ],
      "text/plain": [
       "                                             Pytanie  \\\n",
       "0                         Kto ma imieniny 30 lutego?   \n",
       "1                        Ile przekątnych ma trójkąt?   \n",
       "2  W którym roku wydarzyła się na terenie Polski ...   \n",
       "3     W którym miesiącu zaczyna się 5 kwartał roku?    \n",
       "4                             Ile skrzydeł ma pies?    \n",
       "\n",
       "                          Odpowiedź link do testu w B2  \\\n",
       "0     Nikt, bo nie ma takiego dnia.                NaN   \n",
       "1  Zero, trójkąt nie ma przekątnych                NaN   \n",
       "2            Nie było takiej bitwy.                NaN   \n",
       "3          Rok ma tylko 4 kwartały.                NaN   \n",
       "4     Zero. Psy nie mają skrzydeł.                 NaN   \n",
       "\n",
       "                             rodzaj zagadki Zaskakujące odpowiedzi Bielika  \\\n",
       "0                                       NaN                            NaN   \n",
       "1  sprzeczność z uwagi na definicję pojęcia                            NaN   \n",
       "2                                       NaN                            NaN   \n",
       "3                                       NaN                            NaN   \n",
       "4                                       NaN                            NaN   \n",
       "\n",
       "  Prawidłowe  \n",
       "0          T  \n",
       "1          T  \n",
       "2          T  \n",
       "3          T  \n",
       "4          T  "
      ]
     },
     "execution_count": 4,
     "metadata": {},
     "output_type": "execute_result"
    }
   ],
   "source": [
    "df = load_dataset()\n",
    "df.head()"
   ]
  },
  {
   "cell_type": "code",
   "execution_count": 5,
   "metadata": {},
   "outputs": [
    {
     "data": {
      "application/vnd.jupyter.widget-view+json": {
       "model_id": "d708a3ccc7574e4cb0ba3fefb65f4418",
       "version_major": 2,
       "version_minor": 0
      },
      "text/plain": [
       "Loading checkpoint shards:   0%|          | 0/3 [00:00<?, ?it/s]"
      ]
     },
     "metadata": {},
     "output_type": "display_data"
    },
    {
     "name": "stderr",
     "output_type": "stream",
     "text": [
      "Device set to use cuda:0\n"
     ]
    }
   ],
   "source": [
    "# wczytanie modelu \n",
    "model_id = \"speakleash/Bielik-7B-Instruct-v0.1\"\n",
    "\n",
    "# kwantyzacja modelu\n",
    "quantization_config = BitsAndBytesConfig(load_in_4bit=True)\n",
    "\n",
    "model = AutoModelForCausalLM.from_pretrained(\n",
    "    model_id,\n",
    "    device_map=\"auto\",\n",
    "    quantization_config=quantization_config\n",
    ")\n",
    "\n",
    "# Wczytanie tokenizer z przypisaniem pad_token_id\n",
    "tokenizer = AutoTokenizer.from_pretrained(model_id)\n",
    "# tokenizer.pad_token = tokenizer.eos_token  # Ustawienie pad_token_id jako eos_token_id\n",
    "\n",
    "pipe = pipeline(\n",
    "    \"text-generation\", \n",
    "    model=model, \n",
    "    tokenizer=tokenizer,\n",
    "    return_full_text=False\n",
    ")"
   ]
  },
  {
   "cell_type": "code",
   "execution_count": 6,
   "metadata": {},
   "outputs": [],
   "source": [
    "# pipe(\"Ile jest procent cukru w cukrze?\",\n",
    "#      max_length=100,\n",
    "#      # temperature=0.6,\n",
    "#      # top_k=10\n",
    "#      )"
   ]
  },
  {
   "cell_type": "code",
   "execution_count": 7,
   "metadata": {},
   "outputs": [],
   "source": [
    "# def get_answer_old():\n",
    "#     for question in df['Pytanie']:\n",
    "#        answer = 'example'\n",
    "#        return answer"
   ]
  },
  {
   "cell_type": "code",
   "execution_count": 8,
   "metadata": {},
   "outputs": [],
   "source": [
    "def get_answer(df, pipe, num_rows: int = 5):\n",
    "    \"\"\"\n",
    "    Generuje odpowiedzi dla pytań w kolumnie 'Pytanie' i zapisuje je w nowej kolumnie 'Odpowiedź'.\n",
    "\n",
    "    Args:\n",
    "        df (pd.DataFrame): Ramka danych z kolumną 'Pytanie'.\n",
    "        pipe: Pipeline modelu językowego.\n",
    "        num_rows (int): Liczba wierszy do przetworzenia (dla testowania).\n",
    "\n",
    "    Returns:\n",
    "        pd.DataFrame: Zaktualizowana ramka danych z nową kolumną 'Odpowiedź'.\n",
    "    \"\"\"\n",
    "    # Filtrowanie tylko pierwszych num_rows wierszy dla testów\n",
    "    df_subset = df.head(num_rows).copy()\n",
    "\n",
    "     # Sprawdzenie, czy kolumna 'Pytanie' istnieje\n",
    "    if \"Pytanie\" not in df.columns:\n",
    "        raise ValueError(\"Ramka danych musi zawierać kolumnę 'Pytanie'.\")\n",
    "    \n",
    "    # Iteracja po pytaniach i generowanie odpowiedzi\n",
    "    answers = []\n",
    "    for question in df_subset[\"Pytanie\"]:\n",
    "        response = pipe(question, max_length=100)\n",
    "        generated_text = response[0][\"generated_text\"]\n",
    "        answers.append(generated_text)\n",
    "    \n",
    "    # Zapisanie odpowiedzi w kolumnie 'Odpowiedź'\n",
    "    df_subset[\"Odpowiedź\"] = answers\n",
    "    \n",
    "    return df_subset"
   ]
  },
  {
   "cell_type": "code",
   "execution_count": 9,
   "metadata": {},
   "outputs": [
    {
     "name": "stderr",
     "output_type": "stream",
     "text": [
      "Truncation was not explicitly activated but `max_length` is provided a specific value, please use `truncation=True` to explicitly truncate examples to max length. Defaulting to 'longest_first' truncation strategy. If you encode pairs of sequences (GLUE-style) with the tokenizer you can select this strategy more precisely by providing a specific strategy to `truncation`.\n",
      "Setting `pad_token_id` to `eos_token_id`:2 for open-end generation.\n",
      "C:\\Users\\ankaz\\AppData\\Local\\Packages\\PythonSoftwareFoundation.Python.3.11_qbz5n2kfra8p0\\LocalCache\\local-packages\\Python311\\site-packages\\bitsandbytes\\nn\\modules.py:451: UserWarning: Input type into Linear4bit is torch.float16, but bnb_4bit_compute_dtype=torch.float32 (default). This will lead to slow inference or training speed.\n",
      "  warnings.warn(\n",
      "Setting `pad_token_id` to `eos_token_id`:2 for open-end generation.\n",
      "Setting `pad_token_id` to `eos_token_id`:2 for open-end generation.\n",
      "Setting `pad_token_id` to `eos_token_id`:2 for open-end generation.\n",
      "Setting `pad_token_id` to `eos_token_id`:2 for open-end generation.\n"
     ]
    }
   ],
   "source": [
    "df_2=get_answer(df, pipe)"
   ]
  },
  {
   "cell_type": "code",
   "execution_count": 11,
   "metadata": {},
   "outputs": [
    {
     "data": {
      "text/html": [
       "<div>\n",
       "<style scoped>\n",
       "    .dataframe tbody tr th:only-of-type {\n",
       "        vertical-align: middle;\n",
       "    }\n",
       "\n",
       "    .dataframe tbody tr th {\n",
       "        vertical-align: top;\n",
       "    }\n",
       "\n",
       "    .dataframe thead th {\n",
       "        text-align: right;\n",
       "    }\n",
       "</style>\n",
       "<table border=\"1\" class=\"dataframe\">\n",
       "  <thead>\n",
       "    <tr style=\"text-align: right;\">\n",
       "      <th></th>\n",
       "      <th>Pytanie</th>\n",
       "      <th>Odpowiedź</th>\n",
       "      <th>link do testu w B2</th>\n",
       "      <th>rodzaj zagadki</th>\n",
       "      <th>Zaskakujące odpowiedzi Bielika</th>\n",
       "      <th>Prawidłowe</th>\n",
       "    </tr>\n",
       "  </thead>\n",
       "  <tbody>\n",
       "    <tr>\n",
       "      <th>0</th>\n",
       "      <td>Kto ma imieniny 30 lutego?</td>\n",
       "      <td>Imieniny 30.02 - które są popularne? Imieniny...</td>\n",
       "      <td>NaN</td>\n",
       "      <td>NaN</td>\n",
       "      <td>NaN</td>\n",
       "      <td>T</td>\n",
       "    </tr>\n",
       "    <tr>\n",
       "      <th>1</th>\n",
       "      <td>Ile przekątnych ma trójkąt?</td>\n",
       "      <td>\\nA co to jest trójkąt?\\nTrójkąt to figura geo...</td>\n",
       "      <td>NaN</td>\n",
       "      <td>sprzeczność z uwagi na definicję pojęcia</td>\n",
       "      <td>NaN</td>\n",
       "      <td>T</td>\n",
       "    </tr>\n",
       "    <tr>\n",
       "      <th>2</th>\n",
       "      <td>W którym roku wydarzyła się na terenie Polski ...</td>\n",
       "      <td>W którym roku odbyła się w Polsce historyczna...</td>\n",
       "      <td>NaN</td>\n",
       "      <td>NaN</td>\n",
       "      <td>NaN</td>\n",
       "      <td>T</td>\n",
       "    </tr>\n",
       "    <tr>\n",
       "      <th>3</th>\n",
       "      <td>W którym miesiącu zaczyna się 5 kwartał roku?</td>\n",
       "      <td>5.00000000000000000000000000000000000000000000...</td>\n",
       "      <td>NaN</td>\n",
       "      <td>NaN</td>\n",
       "      <td>NaN</td>\n",
       "      <td>T</td>\n",
       "    </tr>\n",
       "    <tr>\n",
       "      <th>4</th>\n",
       "      <td>Ile skrzydeł ma pies?</td>\n",
       "      <td>10 faktów o psach, które każdy psiarz powinien...</td>\n",
       "      <td>NaN</td>\n",
       "      <td>NaN</td>\n",
       "      <td>NaN</td>\n",
       "      <td>T</td>\n",
       "    </tr>\n",
       "  </tbody>\n",
       "</table>\n",
       "</div>"
      ],
      "text/plain": [
       "                                             Pytanie  \\\n",
       "0                         Kto ma imieniny 30 lutego?   \n",
       "1                        Ile przekątnych ma trójkąt?   \n",
       "2  W którym roku wydarzyła się na terenie Polski ...   \n",
       "3     W którym miesiącu zaczyna się 5 kwartał roku?    \n",
       "4                             Ile skrzydeł ma pies?    \n",
       "\n",
       "                                           Odpowiedź link do testu w B2  \\\n",
       "0   Imieniny 30.02 - które są popularne? Imieniny...                NaN   \n",
       "1  \\nA co to jest trójkąt?\\nTrójkąt to figura geo...                NaN   \n",
       "2   W którym roku odbyła się w Polsce historyczna...                NaN   \n",
       "3  5.00000000000000000000000000000000000000000000...                NaN   \n",
       "4  10 faktów o psach, które każdy psiarz powinien...                NaN   \n",
       "\n",
       "                             rodzaj zagadki Zaskakujące odpowiedzi Bielika  \\\n",
       "0                                       NaN                            NaN   \n",
       "1  sprzeczność z uwagi na definicję pojęcia                            NaN   \n",
       "2                                       NaN                            NaN   \n",
       "3                                       NaN                            NaN   \n",
       "4                                       NaN                            NaN   \n",
       "\n",
       "  Prawidłowe  \n",
       "0          T  \n",
       "1          T  \n",
       "2          T  \n",
       "3          T  \n",
       "4          T  "
      ]
     },
     "execution_count": 11,
     "metadata": {},
     "output_type": "execute_result"
    }
   ],
   "source": [
    "df_2.head()"
   ]
  },
  {
   "cell_type": "code",
   "execution_count": null,
   "metadata": {},
   "outputs": [],
   "source": []
  }
 ],
 "metadata": {
  "kernelspec": {
   "display_name": "Python 3",
   "language": "python",
   "name": "python3"
  },
  "language_info": {
   "codemirror_mode": {
    "name": "ipython",
    "version": 3
   },
   "file_extension": ".py",
   "mimetype": "text/x-python",
   "name": "python",
   "nbconvert_exporter": "python",
   "pygments_lexer": "ipython3",
   "version": "3.11.9"
  }
 },
 "nbformat": 4,
 "nbformat_minor": 2
}
