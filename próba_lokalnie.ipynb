{
 "cells": [
  {
   "cell_type": "code",
   "execution_count": 1,
   "metadata": {},
   "outputs": [],
   "source": [
    "import pandas as pd\n",
    "import torch\n",
    "import secret\n",
    "from transformers import pipeline, AutoModelForCausalLM, AutoTokenizer, BitsAndBytesConfig"
   ]
  },
  {
   "cell_type": "code",
   "execution_count": 2,
   "metadata": {},
   "outputs": [
    {
     "data": {
      "text/plain": [
       "<module 'secret' from 'c:\\\\Users\\\\ankaz\\\\OneDrive\\\\Dokumenty\\\\GitHUB\\\\Bielik_projects\\\\bielik_projects\\\\secret.py'>"
      ]
     },
     "execution_count": 2,
     "metadata": {},
     "output_type": "execute_result"
    }
   ],
   "source": [
    "secret"
   ]
  },
  {
   "cell_type": "code",
   "execution_count": 3,
   "metadata": {},
   "outputs": [],
   "source": [
    "def load_dataset():  # -> pd.DataFrame:\n",
    "    \"\"\"\n",
    "    Wczytuje dane z arkusza Google Sheets, usuwa nadmiarowe kolumny i filtruje wiersze z \"prawidłowe\" == \"T\".\n",
    "\n",
    "    Returns:\n",
    "        pd.DataFrame: Odfiltrowana ramka danych.\n",
    "    \"\"\"\n",
    "    # URL do arkusza Google Sheets w formacie CSV\n",
    "    sheet_url = \"https://docs.google.com/spreadsheets/d/1-Ag5DOHUywOeg_lwDi8ymRsREmHZ87s6d6FUPfLr8tc/export?format=csv\"\n",
    "    \n",
    "    # Wczytanie arkusza\n",
    "    df = pd.read_csv(sheet_url)\n",
    "\n",
    "    # Usunięcie nadmiarowych kolumn (np. 'Unnamed')\n",
    "    df.drop(columns=df.columns[df.columns.str.contains('^Unnamed')], inplace=True)\n",
    "\n",
    "    # Filtrowanie wierszy, gdzie \"Prawidłowe\" == \"T\"\n",
    "    if \"Prawidłowe\" in df.columns:\n",
    "        df = df.loc[df[\"Prawidłowe\"] == \"T\"]\n",
    "    else:\n",
    "        raise ValueError(\"Brak wymaganej kolumny 'prawidłowe' w ramce danych.\")\n",
    "    \n",
    "    return df"
   ]
  },
  {
   "cell_type": "code",
   "execution_count": 4,
   "metadata": {},
   "outputs": [
    {
     "data": {
      "text/html": [
       "<div>\n",
       "<style scoped>\n",
       "    .dataframe tbody tr th:only-of-type {\n",
       "        vertical-align: middle;\n",
       "    }\n",
       "\n",
       "    .dataframe tbody tr th {\n",
       "        vertical-align: top;\n",
       "    }\n",
       "\n",
       "    .dataframe thead th {\n",
       "        text-align: right;\n",
       "    }\n",
       "</style>\n",
       "<table border=\"1\" class=\"dataframe\">\n",
       "  <thead>\n",
       "    <tr style=\"text-align: right;\">\n",
       "      <th></th>\n",
       "      <th>Pytanie</th>\n",
       "      <th>Odpowiedź</th>\n",
       "      <th>link do testu w B2</th>\n",
       "      <th>rodzaj zagadki</th>\n",
       "      <th>Zaskakujące odpowiedzi Bielika</th>\n",
       "      <th>Prawidłowe</th>\n",
       "    </tr>\n",
       "  </thead>\n",
       "  <tbody>\n",
       "    <tr>\n",
       "      <th>0</th>\n",
       "      <td>Kto ma imieniny 30 lutego?</td>\n",
       "      <td>Nikt, bo nie ma takiego dnia.</td>\n",
       "      <td>NaN</td>\n",
       "      <td>NaN</td>\n",
       "      <td>NaN</td>\n",
       "      <td>T</td>\n",
       "    </tr>\n",
       "    <tr>\n",
       "      <th>1</th>\n",
       "      <td>Ile przekątnych ma trójkąt?</td>\n",
       "      <td>Zero, trójkąt nie ma przekątnych</td>\n",
       "      <td>NaN</td>\n",
       "      <td>sprzeczność z uwagi na definicję pojęcia</td>\n",
       "      <td>NaN</td>\n",
       "      <td>T</td>\n",
       "    </tr>\n",
       "    <tr>\n",
       "      <th>2</th>\n",
       "      <td>W którym roku wydarzyła się na terenie Polski ...</td>\n",
       "      <td>Nie było takiej bitwy.</td>\n",
       "      <td>NaN</td>\n",
       "      <td>NaN</td>\n",
       "      <td>NaN</td>\n",
       "      <td>T</td>\n",
       "    </tr>\n",
       "    <tr>\n",
       "      <th>3</th>\n",
       "      <td>W którym miesiącu zaczyna się 5 kwartał roku?</td>\n",
       "      <td>Rok ma tylko 4 kwartały.</td>\n",
       "      <td>NaN</td>\n",
       "      <td>NaN</td>\n",
       "      <td>NaN</td>\n",
       "      <td>T</td>\n",
       "    </tr>\n",
       "    <tr>\n",
       "      <th>4</th>\n",
       "      <td>Ile skrzydeł ma pies?</td>\n",
       "      <td>Zero. Psy nie mają skrzydeł.</td>\n",
       "      <td>NaN</td>\n",
       "      <td>NaN</td>\n",
       "      <td>NaN</td>\n",
       "      <td>T</td>\n",
       "    </tr>\n",
       "  </tbody>\n",
       "</table>\n",
       "</div>"
      ],
      "text/plain": [
       "                                             Pytanie  \\\n",
       "0                         Kto ma imieniny 30 lutego?   \n",
       "1                        Ile przekątnych ma trójkąt?   \n",
       "2  W którym roku wydarzyła się na terenie Polski ...   \n",
       "3     W którym miesiącu zaczyna się 5 kwartał roku?    \n",
       "4                             Ile skrzydeł ma pies?    \n",
       "\n",
       "                          Odpowiedź link do testu w B2  \\\n",
       "0     Nikt, bo nie ma takiego dnia.                NaN   \n",
       "1  Zero, trójkąt nie ma przekątnych                NaN   \n",
       "2            Nie było takiej bitwy.                NaN   \n",
       "3          Rok ma tylko 4 kwartały.                NaN   \n",
       "4     Zero. Psy nie mają skrzydeł.                 NaN   \n",
       "\n",
       "                             rodzaj zagadki Zaskakujące odpowiedzi Bielika  \\\n",
       "0                                       NaN                            NaN   \n",
       "1  sprzeczność z uwagi na definicję pojęcia                            NaN   \n",
       "2                                       NaN                            NaN   \n",
       "3                                       NaN                            NaN   \n",
       "4                                       NaN                            NaN   \n",
       "\n",
       "  Prawidłowe  \n",
       "0          T  \n",
       "1          T  \n",
       "2          T  \n",
       "3          T  \n",
       "4          T  "
      ]
     },
     "execution_count": 4,
     "metadata": {},
     "output_type": "execute_result"
    }
   ],
   "source": [
    "df = load_dataset()\n",
    "df.head()"
   ]
  },
  {
   "cell_type": "code",
   "execution_count": 5,
   "metadata": {},
   "outputs": [
    {
     "data": {
      "application/vnd.jupyter.widget-view+json": {
       "model_id": "9d4b6043ef1f48ea8fa4294268ae303e",
       "version_major": 2,
       "version_minor": 0
      },
      "text/plain": [
       "Loading checkpoint shards:   0%|          | 0/3 [00:00<?, ?it/s]"
      ]
     },
     "metadata": {},
     "output_type": "display_data"
    },
    {
     "name": "stderr",
     "output_type": "stream",
     "text": [
      "Device set to use cuda:0\n"
     ]
    }
   ],
   "source": [
    "# wczytanie modelu \n",
    "model_id = \"speakleash/Bielik-7B-Instruct-v0.1\"\n",
    "\n",
    "# kwantyzacja modelu\n",
    "quantization_config = BitsAndBytesConfig(load_in_4bit=True)\n",
    "\n",
    "model = AutoModelForCausalLM.from_pretrained(\n",
    "    model_id,\n",
    "    device_map=\"auto\",\n",
    "    quantization_config=quantization_config\n",
    ")\n",
    "\n",
    "# Wczytanie tokenizer z przypisaniem pad_token_id\n",
    "tokenizer = AutoTokenizer.from_pretrained(model_id)\n",
    "# tokenizer.pad_token = tokenizer.eos_token  # Ustawienie pad_token_id jako eos_token_id\n",
    "\n",
    "pipe = pipeline(\n",
    "    \"text-generation\", \n",
    "    model=model, \n",
    "    tokenizer=tokenizer,\n",
    "    return_full_text=False\n",
    ")"
   ]
  },
  {
   "cell_type": "code",
   "execution_count": 6,
   "metadata": {},
   "outputs": [],
   "source": [
    "def get_answer(df, pipe, model_id, num_rows = None):\n",
    "    \"\"\"\n",
    "    Generuje odpowiedzi dla pytań w kolumnie 'Pytanie' i zapisuje je w nowej kolumnie \n",
    "    z nazwą 'Odpowiedź: model_id'.\n",
    "\n",
    "    Args:\n",
    "        df (pd.DataFrame): Ramka danych z kolumną 'Pytanie'.\n",
    "        pipe: Pipeline modelu językowego.\n",
    "        model_id (str): Nazwa modelu, która zostanie dodana do nagłówka kolumny odpowiedzi.\n",
    "        num_rows (int, optional): Liczba wierszy do przetworzenia. Przetwarza wszystkie wiersze, jeśli None.\n",
    "\n",
    "    Returns:\n",
    "        pd.DataFrame: Zaktualizowana ramka danych z nową kolumną 'Odpowiedź: model_id'.\n",
    "    \"\"\"\n",
    "    # Jeśli num_rows jest None, przetwarzaj wszystkie wiersze\n",
    "    df_subset = df if num_rows is None else df.head(num_rows).copy()\n",
    "\n",
    "     # Sprawdzenie, czy kolumna 'Pytanie' istnieje\n",
    "    if \"Pytanie\" not in df.columns:\n",
    "        raise ValueError(\"Ramka danych musi zawierać kolumnę 'Pytanie'.\")\n",
    "    \n",
    "    # Iteracja po pytaniach i generowanie odpowiedzi\n",
    "    answers = []\n",
    "    for idx, question in enumerate(df_subset[\"Pytanie\"], start=1):\n",
    "        try:\n",
    "            print(f\"Przetwarzanie pytania {idx}/{len(df_subset)}: {question}\")\n",
    "            response = pipe(question, max_length=100, truncation=True)\n",
    "            generated_text = response[0][\"generated_text\"]\n",
    "        except Exception as e:\n",
    "            print(f\"Błąd dla pytania: {question}. Szczegóły: {e}\")\n",
    "            generated_text = \"Błąd generacji\"\n",
    "        answers.append(generated_text)\n",
    "    \n",
    "    # Zapisanie odpowiedzi w nowej kolumnie\n",
    "    answer_column_name = f\"Odpowiedź: {model_id}\"\n",
    "    df_subset[answer_column_name] = answers\n",
    "    \n",
    "    return df_subset"
   ]
  },
  {
   "cell_type": "code",
   "execution_count": 7,
   "metadata": {},
   "outputs": [
    {
     "name": "stderr",
     "output_type": "stream",
     "text": [
      "Setting `pad_token_id` to `eos_token_id`:2 for open-end generation.\n"
     ]
    },
    {
     "name": "stdout",
     "output_type": "stream",
     "text": [
      "Przetwarzanie pytania 1/5: Kto ma imieniny 30 lutego?\n"
     ]
    },
    {
     "name": "stderr",
     "output_type": "stream",
     "text": [
      "C:\\Users\\ankaz\\AppData\\Local\\Packages\\PythonSoftwareFoundation.Python.3.11_qbz5n2kfra8p0\\LocalCache\\local-packages\\Python311\\site-packages\\bitsandbytes\\nn\\modules.py:451: UserWarning: Input type into Linear4bit is torch.float16, but bnb_4bit_compute_dtype=torch.float32 (default). This will lead to slow inference or training speed.\n",
      "  warnings.warn(\n",
      "Setting `pad_token_id` to `eos_token_id`:2 for open-end generation.\n"
     ]
    },
    {
     "name": "stdout",
     "output_type": "stream",
     "text": [
      "Przetwarzanie pytania 2/5: Ile przekątnych ma trójkąt?\n"
     ]
    },
    {
     "name": "stderr",
     "output_type": "stream",
     "text": [
      "Setting `pad_token_id` to `eos_token_id`:2 for open-end generation.\n"
     ]
    },
    {
     "name": "stdout",
     "output_type": "stream",
     "text": [
      "Przetwarzanie pytania 3/5: W którym roku wydarzyła się na terenie Polski historyczna Bitwa pod Bigosem?\n"
     ]
    },
    {
     "name": "stderr",
     "output_type": "stream",
     "text": [
      "Setting `pad_token_id` to `eos_token_id`:2 for open-end generation.\n"
     ]
    },
    {
     "name": "stdout",
     "output_type": "stream",
     "text": [
      "Przetwarzanie pytania 4/5: W którym miesiącu zaczyna się 5 kwartał roku? \n"
     ]
    },
    {
     "name": "stderr",
     "output_type": "stream",
     "text": [
      "Setting `pad_token_id` to `eos_token_id`:2 for open-end generation.\n"
     ]
    },
    {
     "name": "stdout",
     "output_type": "stream",
     "text": [
      "Przetwarzanie pytania 5/5: Ile skrzydeł ma pies? \n"
     ]
    }
   ],
   "source": [
    "df_with_answers = get_answer(df, pipe, model_id=model_id, num_rows=5)"
   ]
  },
  {
   "cell_type": "code",
   "execution_count": 8,
   "metadata": {},
   "outputs": [
    {
     "data": {
      "text/html": [
       "<div>\n",
       "<style scoped>\n",
       "    .dataframe tbody tr th:only-of-type {\n",
       "        vertical-align: middle;\n",
       "    }\n",
       "\n",
       "    .dataframe tbody tr th {\n",
       "        vertical-align: top;\n",
       "    }\n",
       "\n",
       "    .dataframe thead th {\n",
       "        text-align: right;\n",
       "    }\n",
       "</style>\n",
       "<table border=\"1\" class=\"dataframe\">\n",
       "  <thead>\n",
       "    <tr style=\"text-align: right;\">\n",
       "      <th></th>\n",
       "      <th>Pytanie</th>\n",
       "      <th>Odpowiedź</th>\n",
       "      <th>link do testu w B2</th>\n",
       "      <th>rodzaj zagadki</th>\n",
       "      <th>Zaskakujące odpowiedzi Bielika</th>\n",
       "      <th>Prawidłowe</th>\n",
       "      <th>Odpowiedź: speakleash/Bielik-7B-Instruct-v0.1</th>\n",
       "    </tr>\n",
       "  </thead>\n",
       "  <tbody>\n",
       "    <tr>\n",
       "      <th>0</th>\n",
       "      <td>Kto ma imieniny 30 lutego?</td>\n",
       "      <td>Nikt, bo nie ma takiego dnia.</td>\n",
       "      <td>NaN</td>\n",
       "      <td>NaN</td>\n",
       "      <td>NaN</td>\n",
       "      <td>T</td>\n",
       "      <td>Imieniny 30.02 - które są popularne? Imieniny...</td>\n",
       "    </tr>\n",
       "    <tr>\n",
       "      <th>1</th>\n",
       "      <td>Ile przekątnych ma trójkąt?</td>\n",
       "      <td>Zero, trójkąt nie ma przekątnych</td>\n",
       "      <td>NaN</td>\n",
       "      <td>sprzeczność z uwagi na definicję pojęcia</td>\n",
       "      <td>NaN</td>\n",
       "      <td>T</td>\n",
       "      <td>\\nA co to jest trójkąt?\\nTrójkąt to figura geo...</td>\n",
       "    </tr>\n",
       "    <tr>\n",
       "      <th>2</th>\n",
       "      <td>W którym roku wydarzyła się na terenie Polski ...</td>\n",
       "      <td>Nie było takiej bitwy.</td>\n",
       "      <td>NaN</td>\n",
       "      <td>NaN</td>\n",
       "      <td>NaN</td>\n",
       "      <td>T</td>\n",
       "      <td>W którym roku odbyła się w Polsce historyczna...</td>\n",
       "    </tr>\n",
       "    <tr>\n",
       "      <th>3</th>\n",
       "      <td>W którym miesiącu zaczyna się 5 kwartał roku?</td>\n",
       "      <td>Rok ma tylko 4 kwartały.</td>\n",
       "      <td>NaN</td>\n",
       "      <td>NaN</td>\n",
       "      <td>NaN</td>\n",
       "      <td>T</td>\n",
       "      <td>5.00000000000000000000000000000000000000000000...</td>\n",
       "    </tr>\n",
       "    <tr>\n",
       "      <th>4</th>\n",
       "      <td>Ile skrzydeł ma pies?</td>\n",
       "      <td>Zero. Psy nie mają skrzydeł.</td>\n",
       "      <td>NaN</td>\n",
       "      <td>NaN</td>\n",
       "      <td>NaN</td>\n",
       "      <td>T</td>\n",
       "      <td>10 faktów o psach, które każdy psiarz powinien...</td>\n",
       "    </tr>\n",
       "  </tbody>\n",
       "</table>\n",
       "</div>"
      ],
      "text/plain": [
       "                                             Pytanie  \\\n",
       "0                         Kto ma imieniny 30 lutego?   \n",
       "1                        Ile przekątnych ma trójkąt?   \n",
       "2  W którym roku wydarzyła się na terenie Polski ...   \n",
       "3     W którym miesiącu zaczyna się 5 kwartał roku?    \n",
       "4                             Ile skrzydeł ma pies?    \n",
       "\n",
       "                          Odpowiedź link do testu w B2  \\\n",
       "0     Nikt, bo nie ma takiego dnia.                NaN   \n",
       "1  Zero, trójkąt nie ma przekątnych                NaN   \n",
       "2            Nie było takiej bitwy.                NaN   \n",
       "3          Rok ma tylko 4 kwartały.                NaN   \n",
       "4     Zero. Psy nie mają skrzydeł.                 NaN   \n",
       "\n",
       "                             rodzaj zagadki Zaskakujące odpowiedzi Bielika  \\\n",
       "0                                       NaN                            NaN   \n",
       "1  sprzeczność z uwagi na definicję pojęcia                            NaN   \n",
       "2                                       NaN                            NaN   \n",
       "3                                       NaN                            NaN   \n",
       "4                                       NaN                            NaN   \n",
       "\n",
       "  Prawidłowe      Odpowiedź: speakleash/Bielik-7B-Instruct-v0.1  \n",
       "0          T   Imieniny 30.02 - które są popularne? Imieniny...  \n",
       "1          T  \\nA co to jest trójkąt?\\nTrójkąt to figura geo...  \n",
       "2          T   W którym roku odbyła się w Polsce historyczna...  \n",
       "3          T  5.00000000000000000000000000000000000000000000...  \n",
       "4          T  10 faktów o psach, które każdy psiarz powinien...  "
      ]
     },
     "execution_count": 8,
     "metadata": {},
     "output_type": "execute_result"
    }
   ],
   "source": [
    "df_with_answers.head()"
   ]
  },
  {
   "cell_type": "code",
   "execution_count": null,
   "metadata": {},
   "outputs": [],
   "source": [
    "# Zapis wyników do pliku\n",
    "output_file =\"podchwytliwe_odpowiedzi.csv\"\n",
    "df_with_answers.to_csv(output_file, index=False)\n",
    "print(f\"Wyniki zapisano do pliku: {output_file}\")\n",
    "\n",
    "# Zapis do URL\n",
    "# TODO: dodać zapis do url?"
   ]
  }
 ],
 "metadata": {
  "kernelspec": {
   "display_name": "Python 3",
   "language": "python",
   "name": "python3"
  },
  "language_info": {
   "codemirror_mode": {
    "name": "ipython",
    "version": 3
   },
   "file_extension": ".py",
   "mimetype": "text/x-python",
   "name": "python",
   "nbconvert_exporter": "python",
   "pygments_lexer": "ipython3",
   "version": "3.11.9"
  }
 },
 "nbformat": 4,
 "nbformat_minor": 2
}
