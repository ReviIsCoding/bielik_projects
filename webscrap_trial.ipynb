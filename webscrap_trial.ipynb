{
 "cells": [
  {
   "cell_type": "code",
   "execution_count": 1,
   "metadata": {},
   "outputs": [],
   "source": [
    "import pandas as pd\n",
    "import time\n",
    "from bs4 import BeautifulSoup\n",
    "import requests \n",
    "import urllib.parse"
   ]
  },
  {
   "cell_type": "code",
   "execution_count": 2,
   "metadata": {},
   "outputs": [],
   "source": [
    "def search_web(df, num_results):\n",
    "    \"\"\"\n",
    "    Searches the web using DuckDuckGo and returns the top results.\n",
    "\n",
    "    Args:\n",
    "        df (pd.DataFrame): DataFrame with 'question' column.\n",
    "        num_results (int): Number of top results to return.\n",
    "        \n",
    "    Returns:\n",
    "        pd.DataFrame: Updated DataFrame with a new column \"web_results\" (list of URLs).\n",
    "    \"\"\"\n",
    "    if \"question\" not in df.columns:\n",
    "        raise ValueError(\"DataFrame must contain a 'question' column.\")\n",
    "\n",
    "    web_results = []\n",
    "\n",
    "    for idx, question in enumerate(df[\"question\"], start=1):\n",
    "        print(f\"Searching the web for question {idx}/{len(df)}: {question}\")\n",
    "\n",
    "        search_url = f\"https://duckduckgo.com/html/?q={question}\"\n",
    "        headers = {\"User-Agent\": \"Mozilla/5.0\"}\n",
    "        \n",
    "        try:\n",
    "            response = requests.get(search_url, headers=headers, timeout=10)\n",
    "            response.raise_for_status()\n",
    "            soup = BeautifulSoup(response.text, \"html.parser\")\n",
    "\n",
    "            # Downloading the first `num_results` results\n",
    "            raw_links = [a[\"href\"] for a in soup.select(\".result__url\")][:num_results]\n",
    "            print(f\"Found {len(raw_links)} results.\")\n",
    "\n",
    "            # Convert relative URLs to absolute URLs\n",
    "            links = []\n",
    "            for link in raw_links:\n",
    "                if link.startswith(\"//duckduckgo.com/l/?uddg=\"):\n",
    "                    cleaned_link = urllib.parse.unquote(link.split(\"uddg=\")[-1])\n",
    "                    cleaned_link = cleaned_link.split(\"&\")[0]\n",
    "                    links.append(cleaned_link)\n",
    "                elif link.startswith(\"http\"):\n",
    "                    cleaned_link = link.split(\"&\")[0]\n",
    "                    links.append(cleaned_link)\n",
    "        except requests.RequestException as e:\n",
    "            print(f\"Error fetching search results for '{question}': {e}\")\n",
    "            links = []\n",
    "        \n",
    "        web_results.append(links)\n",
    "        time.sleep(2)  \n",
    "\n",
    "    df[\"web_results\"] = web_results\n",
    "    return df\n",
    "\n",
    "def fetch_page_content(url):\n",
    "    \"\"\"\n",
    "    Fetches the content of a webpage.\n",
    "\n",
    "    Args:\n",
    "        url (str): URL of the webpage.\n",
    "\n",
    "    Returns:\n",
    "        str: Content of the webpage.\n",
    "    \"\"\"\n",
    "    headers = {\"User-Agent\": \"Mozilla/5.0\"}\n",
    "    \n",
    "    try:\n",
    "        headers = {'User-Agent': 'Mozilla/5.0'}\n",
    "        response = requests.get(url, headers=headers, timeout=10)\n",
    "        response.raise_for_status()\n",
    "\n",
    "        soup = BeautifulSoup(response.text, 'html.parser')\n",
    "\n",
    "        # Remove unnecessary sections\n",
    "        for tag in soup(['script', 'style', 'header', 'footer', 'nav', 'aside']):\n",
    "            tag.decompose()\n",
    "\n",
    "        # Extracting the main content of the page\n",
    "        text = ' '.join(soup.stripped_strings)\n",
    "\n",
    "        return text[:10000]  # Limit of 10,000 characters\n",
    "    except requests.RequestException as e:\n",
    "        print(f\"Błąd pobierania strony {url}: {e}\")\n",
    "        return None\n",
    "        \n",
    "def extract_web_content(df):\n",
    "    \"\"\"\"\n",
    "    Retrieves article content from pages stored in 'web_results' and adds them to DataFrame.\n",
    "\n",
    "    Args:\n",
    "        df (pd.DataFrame): DataFrame with a 'web_results' column containing lists of URLs.\n",
    "\n",
    "    Returns:\n",
    "        pd.DataFrame: DataFrame with a new column “extracted_text” (list of article content).\n",
    "    \"\"\"\n",
    "    if \"web_results\" not in df.columns:\n",
    "        raise ValueError(\"DataFrame must contain a 'web_results' column.\")\n",
    "\n",
    "    extracted_texts = []\n",
    "\n",
    "    for idx, urls in enumerate(df[\"web_results\"], start=1):\n",
    "        print(f\"Pobieranie treści dla zapytania {idx}/{len(df)}...\")\n",
    "        page_texts = [fetch_page_content(url) for url in urls if url]  \n",
    "        extracted_texts.append(page_texts)\n",
    "        time.sleep(2)  \n",
    "\n",
    "    df[\"extracted_text\"] = extracted_texts\n",
    "    return df"
   ]
  },
  {
   "cell_type": "code",
   "execution_count": 3,
   "metadata": {},
   "outputs": [],
   "source": [
    "questions = [\n",
    "    \"Kiedy założono miasto Poznań?\",\n",
    "    \"Jaka epoka nastąpiła po neolicie?\",\n",
    "    \"Kto jest autorem tak zwanej Trzynastej Ksiegi Pana Tadeusza?\"\n",
    "    ]\n",
    "\n",
    "df = pd.DataFrame({\"question\": questions})\n",
    "num_results = 3"
   ]
  },
  {
   "cell_type": "code",
   "execution_count": 4,
   "metadata": {},
   "outputs": [
    {
     "name": "stdout",
     "output_type": "stream",
     "text": [
      "Searching the web for question 1/3: Kiedy założono miasto Poznań?\n",
      "Found 3 results.\n",
      "Searching the web for question 2/3: Jaka epoka nastąpiła po neolicie?\n",
      "Found 3 results.\n",
      "Searching the web for question 3/3: Kto jest autorem tak zwanej Trzynastej Ksiegi Pana Tadeusza?\n",
      "Found 3 results.\n"
     ]
    }
   ],
   "source": [
    "test_df = search_web(df, 3)"
   ]
  },
  {
   "cell_type": "code",
   "execution_count": 5,
   "metadata": {},
   "outputs": [
    {
     "data": {
      "text/html": [
       "<div>\n",
       "<style scoped>\n",
       "    .dataframe tbody tr th:only-of-type {\n",
       "        vertical-align: middle;\n",
       "    }\n",
       "\n",
       "    .dataframe tbody tr th {\n",
       "        vertical-align: top;\n",
       "    }\n",
       "\n",
       "    .dataframe thead th {\n",
       "        text-align: right;\n",
       "    }\n",
       "</style>\n",
       "<table border=\"1\" class=\"dataframe\">\n",
       "  <thead>\n",
       "    <tr style=\"text-align: right;\">\n",
       "      <th></th>\n",
       "      <th>question</th>\n",
       "      <th>web_results</th>\n",
       "    </tr>\n",
       "  </thead>\n",
       "  <tbody>\n",
       "    <tr>\n",
       "      <th>0</th>\n",
       "      <td>Kiedy założono miasto Poznań?</td>\n",
       "      <td>[https://pl.wikipedia.org/wiki/Pozna%C5%84, ht...</td>\n",
       "    </tr>\n",
       "    <tr>\n",
       "      <th>1</th>\n",
       "      <td>Jaka epoka nastąpiła po neolicie?</td>\n",
       "      <td>[https://pl.wikipedia.org/wiki/Neolit, https:/...</td>\n",
       "    </tr>\n",
       "    <tr>\n",
       "      <th>2</th>\n",
       "      <td>Kto jest autorem tak zwanej Trzynastej Ksiegi ...</td>\n",
       "      <td>[https://codziennyekspert.pl/kto-napisal-13-ks...</td>\n",
       "    </tr>\n",
       "  </tbody>\n",
       "</table>\n",
       "</div>"
      ],
      "text/plain": [
       "                                            question  \\\n",
       "0                      Kiedy założono miasto Poznań?   \n",
       "1                  Jaka epoka nastąpiła po neolicie?   \n",
       "2  Kto jest autorem tak zwanej Trzynastej Ksiegi ...   \n",
       "\n",
       "                                         web_results  \n",
       "0  [https://pl.wikipedia.org/wiki/Pozna%C5%84, ht...  \n",
       "1  [https://pl.wikipedia.org/wiki/Neolit, https:/...  \n",
       "2  [https://codziennyekspert.pl/kto-napisal-13-ks...  "
      ]
     },
     "execution_count": 5,
     "metadata": {},
     "output_type": "execute_result"
    }
   ],
   "source": [
    "test_df.head()"
   ]
  },
  {
   "cell_type": "code",
   "execution_count": 6,
   "metadata": {},
   "outputs": [
    {
     "name": "stdout",
     "output_type": "stream",
     "text": [
      "Pobieranie treści dla zapytania 1/3...\n",
      "Pobieranie treści dla zapytania 2/3...\n",
      "Pobieranie treści dla zapytania 3/3...\n"
     ]
    }
   ],
   "source": [
    "test_df = extract_web_content(test_df)"
   ]
  },
  {
   "cell_type": "code",
   "execution_count": 8,
   "metadata": {},
   "outputs": [
    {
     "data": {
      "text/html": [
       "<div>\n",
       "<style scoped>\n",
       "    .dataframe tbody tr th:only-of-type {\n",
       "        vertical-align: middle;\n",
       "    }\n",
       "\n",
       "    .dataframe tbody tr th {\n",
       "        vertical-align: top;\n",
       "    }\n",
       "\n",
       "    .dataframe thead th {\n",
       "        text-align: right;\n",
       "    }\n",
       "</style>\n",
       "<table border=\"1\" class=\"dataframe\">\n",
       "  <thead>\n",
       "    <tr style=\"text-align: right;\">\n",
       "      <th></th>\n",
       "      <th>question</th>\n",
       "      <th>web_results</th>\n",
       "      <th>extracted_text</th>\n",
       "    </tr>\n",
       "  </thead>\n",
       "  <tbody>\n",
       "    <tr>\n",
       "      <th>0</th>\n",
       "      <td>Kiedy założono miasto Poznań?</td>\n",
       "      <td>[https://pl.wikipedia.org/wiki/Pozna%C5%84, ht...</td>\n",
       "      <td>[Poznań – Wikipedia, wolna encyklopedia Przejd...</td>\n",
       "    </tr>\n",
       "    <tr>\n",
       "      <th>1</th>\n",
       "      <td>Jaka epoka nastąpiła po neolicie?</td>\n",
       "      <td>[https://pl.wikipedia.org/wiki/Neolit, https:/...</td>\n",
       "      <td>[Neolit – Wikipedia, wolna encyklopedia Przejd...</td>\n",
       "    </tr>\n",
       "    <tr>\n",
       "      <th>2</th>\n",
       "      <td>Kto jest autorem tak zwanej Trzynastej Ksiegi ...</td>\n",
       "      <td>[https://codziennyekspert.pl/kto-napisal-13-ks...</td>\n",
       "      <td>[Kto napisał 13 księgę pana Tadeusza • Codzien...</td>\n",
       "    </tr>\n",
       "  </tbody>\n",
       "</table>\n",
       "</div>"
      ],
      "text/plain": [
       "                                            question  \\\n",
       "0                      Kiedy założono miasto Poznań?   \n",
       "1                  Jaka epoka nastąpiła po neolicie?   \n",
       "2  Kto jest autorem tak zwanej Trzynastej Ksiegi ...   \n",
       "\n",
       "                                         web_results  \\\n",
       "0  [https://pl.wikipedia.org/wiki/Pozna%C5%84, ht...   \n",
       "1  [https://pl.wikipedia.org/wiki/Neolit, https:/...   \n",
       "2  [https://codziennyekspert.pl/kto-napisal-13-ks...   \n",
       "\n",
       "                                      extracted_text  \n",
       "0  [Poznań – Wikipedia, wolna encyklopedia Przejd...  \n",
       "1  [Neolit – Wikipedia, wolna encyklopedia Przejd...  \n",
       "2  [Kto napisał 13 księgę pana Tadeusza • Codzien...  "
      ]
     },
     "execution_count": 8,
     "metadata": {},
     "output_type": "execute_result"
    }
   ],
   "source": [
    "test_df.head()"
   ]
  },
  {
   "cell_type": "code",
   "execution_count": null,
   "metadata": {},
   "outputs": [],
   "source": []
  }
 ],
 "metadata": {
  "kernelspec": {
   "display_name": "Python 3",
   "language": "python",
   "name": "python3"
  },
  "language_info": {
   "codemirror_mode": {
    "name": "ipython",
    "version": 3
   },
   "file_extension": ".py",
   "mimetype": "text/x-python",
   "name": "python",
   "nbconvert_exporter": "python",
   "pygments_lexer": "ipython3",
   "version": "3.11.9"
  }
 },
 "nbformat": 4,
 "nbformat_minor": 2
}
