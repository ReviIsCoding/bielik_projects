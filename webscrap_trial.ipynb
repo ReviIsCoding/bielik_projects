{
 "cells": [
  {
   "cell_type": "code",
   "execution_count": 1,
   "metadata": {},
   "outputs": [],
   "source": [
    "import pandas as pd\n",
    "import time\n",
    "from bs4 import BeautifulSoup\n",
    "import requests "
   ]
  },
  {
   "cell_type": "code",
   "execution_count": 2,
   "metadata": {},
   "outputs": [],
   "source": [
    "def search_web(df, num_results):\n",
    "    \"\"\"\n",
    "    Searches the web using DuckDuckGo and returns the top results.\n",
    "\n",
    "    Args:\n",
    "        df (pd.DataFrame): DataFrame with 'question' column.\n",
    "        num_results (int): Number of top results to return.\n",
    "        \n",
    "    Returns:\n",
    "        pd.DataFrame: Updated DataFrame with a new column \"web_results\" (list of URLs).\n",
    "    \"\"\"\n",
    "    if \"question\" not in df.columns:\n",
    "        raise ValueError(\"DataFrame must contain a 'question' column.\")\n",
    "\n",
    "    web_results = []\n",
    "\n",
    "    for idx, question in enumerate(df[\"question\"], start=1):\n",
    "        print(f\"Searching the web for question {idx}/{len(df)}: {question}\")\n",
    "\n",
    "        search_url = f\"https://duckduckgo.com/html/?q={question}\"\n",
    "        headers = {\"User-Agent\": \"Mozilla/5.0\"}\n",
    "        \n",
    "        try:\n",
    "            response = requests.get(search_url, headers=headers, timeout=10)\n",
    "            response.raise_for_status()\n",
    "            soup = BeautifulSoup(response.text, \"html.parser\")\n",
    "\n",
    "            # Downloading the first `num_results` results\n",
    "            links = [a[\"href\"] for a in soup.select(\".result__url\")][:num_results]\n",
    "            print(f\"Found {len(links)} results.\")\n",
    "        except requests.RequestException as e:\n",
    "            print(f\"Error fetching search results for '{question}': {e}\")\n",
    "            links = []\n",
    "        \n",
    "        web_results.append(links)\n",
    "        time.sleep(2)  \n",
    "\n",
    "    df[\"web_results\"] = web_results\n",
    "    return df\n",
    "\n",
    "def fetch_page_content(url):\n",
    "    \"\"\"\n",
    "    Fetches the content of a webpage.\n",
    "\n",
    "    Args:\n",
    "        url (str): URL of the webpage.\n",
    "\n",
    "    Returns:\n",
    "        str: Content of the webpage.\n",
    "    \"\"\"\n",
    "    headers = {\"User-Agent\": \"Mozilla/5.0\"}\n",
    "    \n",
    "    try:\n",
    "        headers = {'User-Agent': 'Mozilla/5.0'}\n",
    "        response = requests.get(url, headers=headers, timeout=10)\n",
    "        response.raise_for_status()\n",
    "\n",
    "        soup = BeautifulSoup(response.text, 'html.parser')\n",
    "\n",
    "        # Remove unnecessary sections\n",
    "        for tag in soup(['script', 'style', 'header', 'footer', 'nav', 'aside']):\n",
    "            tag.decompose()\n",
    "\n",
    "        # Extracting the main content of the page\n",
    "        text = ' '.join(soup.stripped_strings)\n",
    "\n",
    "        return text[:10000]  # Limit of 10,000 characters\n",
    "    except requests.RequestException as e:\n",
    "        print(f\"Błąd pobierania strony {url}: {e}\")\n",
    "        return None\n",
    "        \n",
    "def extract_web_content(df):\n",
    "    \"\"\"\"\n",
    "    Retrieves article content from pages stored in 'web_results' and adds them to DataFrame.\n",
    "\n",
    "    Args:\n",
    "        df (pd.DataFrame): DataFrame with a 'web_results' column containing lists of URLs.\n",
    "\n",
    "    Returns:\n",
    "        pd.DataFrame: DataFrame with a new column “extracted_text” (list of article content).\n",
    "    \"\"\"\n",
    "    if \"web_results\" not in df.columns:\n",
    "        raise ValueError(\"DataFrame must contain a 'web_results' column.\")\n",
    "\n",
    "    extracted_texts = []\n",
    "\n",
    "    for idx, urls in enumerate(df[\"web_results\"], start=1):\n",
    "        print(f\"Pobieranie treści dla zapytania {idx}/{len(df)}...\")\n",
    "        page_texts = [fetch_page_content(url) for url in urls if url]  \n",
    "        extracted_texts.append(page_texts)\n",
    "        time.sleep(2)  \n",
    "\n",
    "    df[\"extracted_text\"] = extracted_texts\n",
    "    return df"
   ]
  },
  {
   "cell_type": "code",
   "execution_count": 3,
   "metadata": {},
   "outputs": [],
   "source": [
    "questions = [\n",
    "    \"Kiedy założono miasto Poznań?\",\n",
    "    \"Jaka epoka nastąpiła po neolicie?\",\n",
    "    \"Kto jest autorem tak zwanej Trzynastej Ksiegi Pana Tadeusza?\"\n",
    "    ]\n",
    "\n",
    "df = pd.DataFrame({\"question\": questions})\n",
    "num_results = 3"
   ]
  },
  {
   "cell_type": "code",
   "execution_count": 4,
   "metadata": {},
   "outputs": [
    {
     "name": "stdout",
     "output_type": "stream",
     "text": [
      "Searching the web for question 1/3: Kiedy założono miasto Poznań?\n",
      "Found 3 results.\n",
      "Searching the web for question 2/3: Jaka epoka nastąpiła po neolicie?\n",
      "Found 3 results.\n",
      "Searching the web for question 3/3: Kto jest autorem tak zwanej Trzynastej Ksiegi Pana Tadeusza?\n",
      "Found 3 results.\n"
     ]
    }
   ],
   "source": [
    "test_df = search_web(df, 3)"
   ]
  },
  {
   "cell_type": "code",
   "execution_count": 5,
   "metadata": {},
   "outputs": [
    {
     "data": {
      "text/html": [
       "<div>\n",
       "<style scoped>\n",
       "    .dataframe tbody tr th:only-of-type {\n",
       "        vertical-align: middle;\n",
       "    }\n",
       "\n",
       "    .dataframe tbody tr th {\n",
       "        vertical-align: top;\n",
       "    }\n",
       "\n",
       "    .dataframe thead th {\n",
       "        text-align: right;\n",
       "    }\n",
       "</style>\n",
       "<table border=\"1\" class=\"dataframe\">\n",
       "  <thead>\n",
       "    <tr style=\"text-align: right;\">\n",
       "      <th></th>\n",
       "      <th>question</th>\n",
       "      <th>web_results</th>\n",
       "    </tr>\n",
       "  </thead>\n",
       "  <tbody>\n",
       "    <tr>\n",
       "      <th>0</th>\n",
       "      <td>Kiedy założono miasto Poznań?</td>\n",
       "      <td>[//duckduckgo.com/l/?uddg=https%3A%2F%2Fpl.wik...</td>\n",
       "    </tr>\n",
       "    <tr>\n",
       "      <th>1</th>\n",
       "      <td>Jaka epoka nastąpiła po neolicie?</td>\n",
       "      <td>[//duckduckgo.com/l/?uddg=https%3A%2F%2Fpl.wik...</td>\n",
       "    </tr>\n",
       "    <tr>\n",
       "      <th>2</th>\n",
       "      <td>Kto jest autorem tak zwanej Trzynastej Ksiegi ...</td>\n",
       "      <td>[//duckduckgo.com/l/?uddg=https%3A%2F%2Fcodzie...</td>\n",
       "    </tr>\n",
       "  </tbody>\n",
       "</table>\n",
       "</div>"
      ],
      "text/plain": [
       "                                            question  \\\n",
       "0                      Kiedy założono miasto Poznań?   \n",
       "1                  Jaka epoka nastąpiła po neolicie?   \n",
       "2  Kto jest autorem tak zwanej Trzynastej Ksiegi ...   \n",
       "\n",
       "                                         web_results  \n",
       "0  [//duckduckgo.com/l/?uddg=https%3A%2F%2Fpl.wik...  \n",
       "1  [//duckduckgo.com/l/?uddg=https%3A%2F%2Fpl.wik...  \n",
       "2  [//duckduckgo.com/l/?uddg=https%3A%2F%2Fcodzie...  "
      ]
     },
     "execution_count": 5,
     "metadata": {},
     "output_type": "execute_result"
    }
   ],
   "source": [
    "test_df.head()"
   ]
  },
  {
   "cell_type": "code",
   "execution_count": 6,
   "metadata": {},
   "outputs": [
    {
     "name": "stdout",
     "output_type": "stream",
     "text": [
      "Pobieranie treści dla zapytania 1/3...\n",
      "Błąd pobierania strony //duckduckgo.com/l/?uddg=https%3A%2F%2Fpl.wikipedia.org%2Fwiki%2FPozna%25C5%2584&rut=e36f921c6edc541d6b8725426e0dc86f994bee10136042bdfc139647baa52513: Invalid URL '//duckduckgo.com/l/?uddg=https%3A%2F%2Fpl.wikipedia.org%2Fwiki%2FPozna%25C5%2584&rut=e36f921c6edc541d6b8725426e0dc86f994bee10136042bdfc139647baa52513': No scheme supplied. Perhaps you meant https:////duckduckgo.com/l/?uddg=https%3A%2F%2Fpl.wikipedia.org%2Fwiki%2FPozna%25C5%2584&rut=e36f921c6edc541d6b8725426e0dc86f994bee10136042bdfc139647baa52513?\n",
      "Błąd pobierania strony //duckduckgo.com/l/?uddg=https%3A%2F%2Fpl.wikipedia.org%2Fwiki%2FHistoria_Poznania&rut=71078d6c7a7e8936ed79f9702b062b99f9af694cea3e5c26ec20805d141b76cf: Invalid URL '//duckduckgo.com/l/?uddg=https%3A%2F%2Fpl.wikipedia.org%2Fwiki%2FHistoria_Poznania&rut=71078d6c7a7e8936ed79f9702b062b99f9af694cea3e5c26ec20805d141b76cf': No scheme supplied. Perhaps you meant https:////duckduckgo.com/l/?uddg=https%3A%2F%2Fpl.wikipedia.org%2Fwiki%2FHistoria_Poznania&rut=71078d6c7a7e8936ed79f9702b062b99f9af694cea3e5c26ec20805d141b76cf?\n",
      "Błąd pobierania strony //duckduckgo.com/l/?uddg=https%3A%2F%2Fwww.poznan.pl%2Fmim%2Fs8a%2F%2D%2Cp%2C25064%2C25065.html&rut=ea3d115127d22f220052edaae00d8b556f4b64dc8ed43e9b6451f9a41eb9a54f: Invalid URL '//duckduckgo.com/l/?uddg=https%3A%2F%2Fwww.poznan.pl%2Fmim%2Fs8a%2F%2D%2Cp%2C25064%2C25065.html&rut=ea3d115127d22f220052edaae00d8b556f4b64dc8ed43e9b6451f9a41eb9a54f': No scheme supplied. Perhaps you meant https:////duckduckgo.com/l/?uddg=https%3A%2F%2Fwww.poznan.pl%2Fmim%2Fs8a%2F%2D%2Cp%2C25064%2C25065.html&rut=ea3d115127d22f220052edaae00d8b556f4b64dc8ed43e9b6451f9a41eb9a54f?\n",
      "Pobieranie treści dla zapytania 2/3...\n",
      "Błąd pobierania strony //duckduckgo.com/l/?uddg=https%3A%2F%2Fpl.wikipedia.org%2Fwiki%2FNeolit&rut=77f1fc397eaff1d4de6bf43a58888fe1d5dddbf5dc7b248e20d3bcc80b3a4549: Invalid URL '//duckduckgo.com/l/?uddg=https%3A%2F%2Fpl.wikipedia.org%2Fwiki%2FNeolit&rut=77f1fc397eaff1d4de6bf43a58888fe1d5dddbf5dc7b248e20d3bcc80b3a4549': No scheme supplied. Perhaps you meant https:////duckduckgo.com/l/?uddg=https%3A%2F%2Fpl.wikipedia.org%2Fwiki%2FNeolit&rut=77f1fc397eaff1d4de6bf43a58888fe1d5dddbf5dc7b248e20d3bcc80b3a4549?\n",
      "Błąd pobierania strony //duckduckgo.com/l/?uddg=https%3A%2F%2Fzapytaj.onet.pl%2FCategory%2F002%2C019%2F2%2C6466770%2CJakie_epoki_pojawily_sie_po_neolicie.html&rut=ba9e1bac7789a47d0bc809c6df103e496246affbb16b78c2319a5e14f40a93ed: Invalid URL '//duckduckgo.com/l/?uddg=https%3A%2F%2Fzapytaj.onet.pl%2FCategory%2F002%2C019%2F2%2C6466770%2CJakie_epoki_pojawily_sie_po_neolicie.html&rut=ba9e1bac7789a47d0bc809c6df103e496246affbb16b78c2319a5e14f40a93ed': No scheme supplied. Perhaps you meant https:////duckduckgo.com/l/?uddg=https%3A%2F%2Fzapytaj.onet.pl%2FCategory%2F002%2C019%2F2%2C6466770%2CJakie_epoki_pojawily_sie_po_neolicie.html&rut=ba9e1bac7789a47d0bc809c6df103e496246affbb16b78c2319a5e14f40a93ed?\n",
      "Błąd pobierania strony //duckduckgo.com/l/?uddg=https%3A%2F%2Feszkola.pl%2Fhistoria%2Frewolucja%2Dneolityczna%2D5478.html&rut=c0fa84a77ca88d6d4fdab69aa277784fea7437db1a6f0be94f523ae158ba2d12: Invalid URL '//duckduckgo.com/l/?uddg=https%3A%2F%2Feszkola.pl%2Fhistoria%2Frewolucja%2Dneolityczna%2D5478.html&rut=c0fa84a77ca88d6d4fdab69aa277784fea7437db1a6f0be94f523ae158ba2d12': No scheme supplied. Perhaps you meant https:////duckduckgo.com/l/?uddg=https%3A%2F%2Feszkola.pl%2Fhistoria%2Frewolucja%2Dneolityczna%2D5478.html&rut=c0fa84a77ca88d6d4fdab69aa277784fea7437db1a6f0be94f523ae158ba2d12?\n",
      "Pobieranie treści dla zapytania 3/3...\n",
      "Błąd pobierania strony //duckduckgo.com/l/?uddg=https%3A%2F%2Fcodziennyekspert.pl%2Fkto%2Dnapisal%2D13%2Dksiege%2Dpana%2Dtadeusza%2F&rut=cde4c7e02b2047858132e0446b351914b82b80fd0fb39a8af0cc79b3d64cc5a4: Invalid URL '//duckduckgo.com/l/?uddg=https%3A%2F%2Fcodziennyekspert.pl%2Fkto%2Dnapisal%2D13%2Dksiege%2Dpana%2Dtadeusza%2F&rut=cde4c7e02b2047858132e0446b351914b82b80fd0fb39a8af0cc79b3d64cc5a4': No scheme supplied. Perhaps you meant https:////duckduckgo.com/l/?uddg=https%3A%2F%2Fcodziennyekspert.pl%2Fkto%2Dnapisal%2D13%2Dksiege%2Dpana%2Dtadeusza%2F&rut=cde4c7e02b2047858132e0446b351914b82b80fd0fb39a8af0cc79b3d64cc5a4?\n",
      "Błąd pobierania strony //duckduckgo.com/l/?uddg=https%3A%2F%2Fkrajowy.biz%2Fkto%2Dnapisal%2D13%2Dksiege%2Dpana%2Dtadeusza%2F&rut=515c78abed2b2e268957754cdb39768e87d28fa9248df67a80361ee2b669e394: Invalid URL '//duckduckgo.com/l/?uddg=https%3A%2F%2Fkrajowy.biz%2Fkto%2Dnapisal%2D13%2Dksiege%2Dpana%2Dtadeusza%2F&rut=515c78abed2b2e268957754cdb39768e87d28fa9248df67a80361ee2b669e394': No scheme supplied. Perhaps you meant https:////duckduckgo.com/l/?uddg=https%3A%2F%2Fkrajowy.biz%2Fkto%2Dnapisal%2D13%2Dksiege%2Dpana%2Dtadeusza%2F&rut=515c78abed2b2e268957754cdb39768e87d28fa9248df67a80361ee2b669e394?\n",
      "Błąd pobierania strony //duckduckgo.com/l/?uddg=https%3A%2F%2Fpl.wikipedia.org%2Fwiki%2FXIII_Ksi%25C4%2599ga_Pana_Tadeusza&rut=6ba76f7e168b2af053eb6b37d0610323d2187af34fb0eab60e14e09e02d5ad5a: Invalid URL '//duckduckgo.com/l/?uddg=https%3A%2F%2Fpl.wikipedia.org%2Fwiki%2FXIII_Ksi%25C4%2599ga_Pana_Tadeusza&rut=6ba76f7e168b2af053eb6b37d0610323d2187af34fb0eab60e14e09e02d5ad5a': No scheme supplied. Perhaps you meant https:////duckduckgo.com/l/?uddg=https%3A%2F%2Fpl.wikipedia.org%2Fwiki%2FXIII_Ksi%25C4%2599ga_Pana_Tadeusza&rut=6ba76f7e168b2af053eb6b37d0610323d2187af34fb0eab60e14e09e02d5ad5a?\n"
     ]
    }
   ],
   "source": [
    "test_df = extract_web_content(test_df)"
   ]
  },
  {
   "cell_type": "code",
   "execution_count": 7,
   "metadata": {},
   "outputs": [
    {
     "data": {
      "text/html": [
       "<div>\n",
       "<style scoped>\n",
       "    .dataframe tbody tr th:only-of-type {\n",
       "        vertical-align: middle;\n",
       "    }\n",
       "\n",
       "    .dataframe tbody tr th {\n",
       "        vertical-align: top;\n",
       "    }\n",
       "\n",
       "    .dataframe thead th {\n",
       "        text-align: right;\n",
       "    }\n",
       "</style>\n",
       "<table border=\"1\" class=\"dataframe\">\n",
       "  <thead>\n",
       "    <tr style=\"text-align: right;\">\n",
       "      <th></th>\n",
       "      <th>question</th>\n",
       "      <th>web_results</th>\n",
       "      <th>extracted_text</th>\n",
       "    </tr>\n",
       "  </thead>\n",
       "  <tbody>\n",
       "    <tr>\n",
       "      <th>0</th>\n",
       "      <td>Kiedy założono miasto Poznań?</td>\n",
       "      <td>[//duckduckgo.com/l/?uddg=https%3A%2F%2Fpl.wik...</td>\n",
       "      <td>[None, None, None]</td>\n",
       "    </tr>\n",
       "    <tr>\n",
       "      <th>1</th>\n",
       "      <td>Jaka epoka nastąpiła po neolicie?</td>\n",
       "      <td>[//duckduckgo.com/l/?uddg=https%3A%2F%2Fpl.wik...</td>\n",
       "      <td>[None, None, None]</td>\n",
       "    </tr>\n",
       "    <tr>\n",
       "      <th>2</th>\n",
       "      <td>Kto jest autorem tak zwanej Trzynastej Ksiegi ...</td>\n",
       "      <td>[//duckduckgo.com/l/?uddg=https%3A%2F%2Fcodzie...</td>\n",
       "      <td>[None, None, None]</td>\n",
       "    </tr>\n",
       "  </tbody>\n",
       "</table>\n",
       "</div>"
      ],
      "text/plain": [
       "                                            question  \\\n",
       "0                      Kiedy założono miasto Poznań?   \n",
       "1                  Jaka epoka nastąpiła po neolicie?   \n",
       "2  Kto jest autorem tak zwanej Trzynastej Ksiegi ...   \n",
       "\n",
       "                                         web_results      extracted_text  \n",
       "0  [//duckduckgo.com/l/?uddg=https%3A%2F%2Fpl.wik...  [None, None, None]  \n",
       "1  [//duckduckgo.com/l/?uddg=https%3A%2F%2Fpl.wik...  [None, None, None]  \n",
       "2  [//duckduckgo.com/l/?uddg=https%3A%2F%2Fcodzie...  [None, None, None]  "
      ]
     },
     "execution_count": 7,
     "metadata": {},
     "output_type": "execute_result"
    }
   ],
   "source": [
    "df.head()"
   ]
  },
  {
   "cell_type": "code",
   "execution_count": null,
   "metadata": {},
   "outputs": [],
   "source": []
  }
 ],
 "metadata": {
  "kernelspec": {
   "display_name": "Python 3",
   "language": "python",
   "name": "python3"
  },
  "language_info": {
   "codemirror_mode": {
    "name": "ipython",
    "version": 3
   },
   "file_extension": ".py",
   "mimetype": "text/x-python",
   "name": "python",
   "nbconvert_exporter": "python",
   "pygments_lexer": "ipython3",
   "version": "3.11.9"
  }
 },
 "nbformat": 4,
 "nbformat_minor": 2
}
